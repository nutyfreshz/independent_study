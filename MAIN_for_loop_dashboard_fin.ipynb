{
 "cells": [
  {
   "cell_type": "code",
   "execution_count": 1,
   "id": "d0ffca8f",
   "metadata": {},
   "outputs": [],
   "source": [
    "import pandas as pd\n",
    "import numpy as np\n",
    "pd.set_option('display.max_columns', 400)\n",
    "from time import time\n",
    "pd.set_option('float_format', '{:f}'.format)\n",
    "\n",
    "import redshift_connector # !pip install redshift_connector\n",
    "from time import time\n",
    "import datetime\n",
    "import gc"
   ]
  },
  {
   "cell_type": "code",
   "execution_count": 2,
   "id": "0990702f",
   "metadata": {},
   "outputs": [],
   "source": [
    "# Connect SQL Server\n",
    "def connect_sql():\n",
    "    conn = redshift_connector.connect(host='redshift-cluster-1.the1data.studio',database='the1',user='cds_rbs_lenutchapong',password='PEXIIKuRgBROf4p')\n",
    "    cursor = conn.cursor()\n",
    "    return conn,cursor"
   ]
  },
  {
   "cell_type": "code",
   "execution_count": 3,
   "id": "c841162c",
   "metadata": {},
   "outputs": [],
   "source": [
    "# Disconnect SQL Server\n",
    "def disconnect_sql(conn,cur):\n",
    "    cur.close()\n",
    "    conn.close()"
   ]
  },
  {
   "cell_type": "code",
   "execution_count": 4,
   "id": "1249cdea",
   "metadata": {},
   "outputs": [],
   "source": [
    "# Query data and convert to dataframe\n",
    "def query_data(query):\n",
    "    start = time()\n",
    "    \n",
    "    # Connect SQL Server\n",
    "    conn,cur=connect_sql()\n",
    "    print (\"Connect SQL Server Succeed!\")\n",
    "    \n",
    "    print (\"Query Data Doing!\")\n",
    "    # Query Data\n",
    "    df = pd.read_sql(query, conn)\n",
    "    print (\"Query Data Succeed!\")\n",
    "    \n",
    "    # Disconnect SQL Server\n",
    "    disconnect_sql(conn,cur)\n",
    "    \n",
    "    print(\"(rows, columns)\",df.shape)\n",
    "    End = time()\n",
    "    print(f'Time taken to run: {str(datetime.timedelta(seconds=End - start))} hh:mm:ss')\n",
    "    \n",
    "    del start,conn,cur,End\n",
    "    gc.collect()\n",
    "    return df"
   ]
  },
  {
   "cell_type": "markdown",
   "id": "f8483ca8",
   "metadata": {},
   "source": [
    "# brand_name"
   ]
  },
  {
   "cell_type": "code",
   "execution_count": 5,
   "id": "28657001",
   "metadata": {},
   "outputs": [],
   "source": [
    "##brand_focus\n",
    "df_list = ['LA MER','DIOR','ESTEE LAUDER','CLARINS','SKII','KIEHLS','CHANEL','SHISEIDO','LANCOME','CLINIQUE','SULWHASOO','SISLEY','BIOTHERM','LOCCITANE']"
   ]
  },
  {
   "cell_type": "code",
   "execution_count": 14,
   "id": "4f4df245",
   "metadata": {},
   "outputs": [],
   "source": [
    "## Part 1: Overall\n",
    "\n",
    "def query_sql(brand_name):\n",
    "    query=''' \n",
    "WITH cal AS (\n",
    "SELECT CASE WHEN type_for_brand IN ('a) new to class','g) lapsed to class') THEN '1) new/lapsed to class'\n",
    "\t\tWHEN type_for_brand IN ('e) existing cat lapsed to brand','b) existing cat new to brand') THEN '2) new/lapsed ex-cat_pre'\n",
    "\t\tWHEN type_for_brand IN ('c) existing - spend less','d) existing - spend more than equal') THEN '3) ex-cat/ex-brand spend less/more'\n",
    "\t\tWHEN type_for_brand IN ('f) switch: 1-1 spend less','f) switch: 1-1 spend more than equal') THEN '4) switch in-out'\n",
    "\t\tELSE 'no_use' END AS customer_behav\n",
    "\t\t, sum(CASE WHEN brand_name_19 IN ('%s') THEN spend_19 ELSE 0 END) loss\t--change brand for loop\n",
    "\t\t, sum(CASE WHEN brand_name_22 IN ('%s') THEN spend_22 ELSE 0 END) gain\t--change brand for loop\n",
    "\t\t, gain - loss AS net_gain_loss\n",
    "FROM analysis_cds_rbs.kd_tmp_brand_switch_beauty_66_23_skincare\t\t--change db\n",
    "WHERE (brand_name_19 IN ('%s') OR brand_name_22 IN ('%s'))\t--change brand for loop\n",
    "GROUP BY 1\n",
    "HAVING customer_behav != 'no_use'\n",
    "ORDER BY 1\n",
    ")\n",
    "\n",
    ", recal_2 AS (\n",
    "SELECT '2) new/lapsed ex-cat' AS customer_behav\n",
    "\t\t, sum(CASE WHEN customer_behav IN ('2) new/lapsed ex-cat_pre') THEN loss ELSE 0 END) - sum(CASE WHEN customer_behav IN ('4) switch in-out') THEN loss ELSE 0 END) AS loss\n",
    "\t\t, sum(CASE WHEN customer_behav IN ('2) new/lapsed ex-cat_pre') THEN gain ELSE 0 END) - sum(CASE WHEN customer_behav IN ('4) switch in-out') THEN gain ELSE 0 END) AS gain\n",
    "FROM cal\n",
    "GROUP BY 1\n",
    ")\n",
    "\n",
    ", final_recal2 AS (\n",
    "SELECT *\n",
    "\t\t, gain - loss AS net_gain_loss\n",
    "FROM recal_2\n",
    ")\n",
    "\n",
    ", df_output AS (\n",
    "SELECT *\n",
    "FROM cal\n",
    "WHERE customer_behav != '2) new/lapsed ex-cat_pre'\n",
    "UNION \n",
    "SELECT *\n",
    "FROM final_recal2\n",
    "ORDER BY 1 ASC\n",
    ")\n",
    "\n",
    "SELECT *\n",
    "FROM df_output\n",
    "    '''%(brand_name,brand_name,brand_name,brand_name)\n",
    "    return query"
   ]
  },
  {
   "cell_type": "code",
   "execution_count": 21,
   "id": "3ae38401",
   "metadata": {},
   "outputs": [
    {
     "name": "stdout",
     "output_type": "stream",
     "text": [
      "LA MER\n",
      "Connect SQL Server Succeed!\n",
      "Query Data Doing!\n",
      "Query Data Succeed!\n",
      "(rows, columns) (4, 4)\n",
      "Time taken to run: 0:00:00.458247 hh:mm:ss\n",
      "DIOR\n"
     ]
    },
    {
     "name": "stderr",
     "output_type": "stream",
     "text": [
      "C:\\Users\\LeNutchapong\\Anaconda3\\lib\\site-packages\\pandas\\io\\sql.py:762: UserWarning: pandas only support SQLAlchemy connectable(engine/connection) ordatabase string URI or sqlite3 DBAPI2 connectionother DBAPI2 objects are not tested, please consider using SQLAlchemy\n",
      "  warnings.warn(\n"
     ]
    },
    {
     "name": "stdout",
     "output_type": "stream",
     "text": [
      "Connect SQL Server Succeed!\n",
      "Query Data Doing!\n",
      "Query Data Succeed!\n",
      "(rows, columns) (4, 4)\n",
      "Time taken to run: 0:00:00.432762 hh:mm:ss\n",
      "ESTEE LAUDER\n"
     ]
    },
    {
     "name": "stderr",
     "output_type": "stream",
     "text": [
      "C:\\Users\\LeNutchapong\\Anaconda3\\lib\\site-packages\\pandas\\io\\sql.py:762: UserWarning: pandas only support SQLAlchemy connectable(engine/connection) ordatabase string URI or sqlite3 DBAPI2 connectionother DBAPI2 objects are not tested, please consider using SQLAlchemy\n",
      "  warnings.warn(\n"
     ]
    },
    {
     "name": "stdout",
     "output_type": "stream",
     "text": [
      "Connect SQL Server Succeed!\n",
      "Query Data Doing!\n",
      "Query Data Succeed!\n",
      "(rows, columns) (4, 4)\n",
      "Time taken to run: 0:00:00.390303 hh:mm:ss\n"
     ]
    },
    {
     "name": "stderr",
     "output_type": "stream",
     "text": [
      "C:\\Users\\LeNutchapong\\Anaconda3\\lib\\site-packages\\pandas\\io\\sql.py:762: UserWarning: pandas only support SQLAlchemy connectable(engine/connection) ordatabase string URI or sqlite3 DBAPI2 connectionother DBAPI2 objects are not tested, please consider using SQLAlchemy\n",
      "  warnings.warn(\n"
     ]
    },
    {
     "name": "stdout",
     "output_type": "stream",
     "text": [
      "CLARINS\n",
      "Connect SQL Server Succeed!\n",
      "Query Data Doing!\n",
      "Query Data Succeed!\n",
      "(rows, columns) (4, 4)\n",
      "Time taken to run: 0:00:00.415764 hh:mm:ss\n"
     ]
    },
    {
     "name": "stderr",
     "output_type": "stream",
     "text": [
      "C:\\Users\\LeNutchapong\\Anaconda3\\lib\\site-packages\\pandas\\io\\sql.py:762: UserWarning: pandas only support SQLAlchemy connectable(engine/connection) ordatabase string URI or sqlite3 DBAPI2 connectionother DBAPI2 objects are not tested, please consider using SQLAlchemy\n",
      "  warnings.warn(\n"
     ]
    },
    {
     "name": "stdout",
     "output_type": "stream",
     "text": [
      "SKII\n",
      "Connect SQL Server Succeed!\n",
      "Query Data Doing!\n",
      "Query Data Succeed!\n",
      "(rows, columns) (4, 4)\n",
      "Time taken to run: 0:00:00.414819 hh:mm:ss\n",
      "KIEHLS\n"
     ]
    },
    {
     "name": "stderr",
     "output_type": "stream",
     "text": [
      "C:\\Users\\LeNutchapong\\Anaconda3\\lib\\site-packages\\pandas\\io\\sql.py:762: UserWarning: pandas only support SQLAlchemy connectable(engine/connection) ordatabase string URI or sqlite3 DBAPI2 connectionother DBAPI2 objects are not tested, please consider using SQLAlchemy\n",
      "  warnings.warn(\n"
     ]
    },
    {
     "name": "stdout",
     "output_type": "stream",
     "text": [
      "Connect SQL Server Succeed!\n",
      "Query Data Doing!\n",
      "Query Data Succeed!\n",
      "(rows, columns) (4, 4)\n",
      "Time taken to run: 0:00:00.501192 hh:mm:ss\n"
     ]
    },
    {
     "name": "stderr",
     "output_type": "stream",
     "text": [
      "C:\\Users\\LeNutchapong\\Anaconda3\\lib\\site-packages\\pandas\\io\\sql.py:762: UserWarning: pandas only support SQLAlchemy connectable(engine/connection) ordatabase string URI or sqlite3 DBAPI2 connectionother DBAPI2 objects are not tested, please consider using SQLAlchemy\n",
      "  warnings.warn(\n"
     ]
    },
    {
     "name": "stdout",
     "output_type": "stream",
     "text": [
      "CHANEL\n",
      "Connect SQL Server Succeed!\n",
      "Query Data Doing!\n",
      "Query Data Succeed!\n",
      "(rows, columns) (4, 4)\n",
      "Time taken to run: 0:00:00.457060 hh:mm:ss\n",
      "SHISEIDO\n"
     ]
    },
    {
     "name": "stderr",
     "output_type": "stream",
     "text": [
      "C:\\Users\\LeNutchapong\\Anaconda3\\lib\\site-packages\\pandas\\io\\sql.py:762: UserWarning: pandas only support SQLAlchemy connectable(engine/connection) ordatabase string URI or sqlite3 DBAPI2 connectionother DBAPI2 objects are not tested, please consider using SQLAlchemy\n",
      "  warnings.warn(\n"
     ]
    },
    {
     "name": "stdout",
     "output_type": "stream",
     "text": [
      "Connect SQL Server Succeed!\n",
      "Query Data Doing!\n"
     ]
    },
    {
     "name": "stderr",
     "output_type": "stream",
     "text": [
      "C:\\Users\\LeNutchapong\\Anaconda3\\lib\\site-packages\\pandas\\io\\sql.py:762: UserWarning: pandas only support SQLAlchemy connectable(engine/connection) ordatabase string URI or sqlite3 DBAPI2 connectionother DBAPI2 objects are not tested, please consider using SQLAlchemy\n",
      "  warnings.warn(\n"
     ]
    },
    {
     "name": "stdout",
     "output_type": "stream",
     "text": [
      "Query Data Succeed!\n",
      "(rows, columns) (4, 4)\n",
      "Time taken to run: 0:00:00.839702 hh:mm:ss\n",
      "LANCOME\n",
      "Connect SQL Server Succeed!\n",
      "Query Data Doing!\n",
      "Query Data Succeed!\n",
      "(rows, columns) (4, 4)\n",
      "Time taken to run: 0:00:00.400692 hh:mm:ss\n",
      "CLINIQUE\n"
     ]
    },
    {
     "name": "stderr",
     "output_type": "stream",
     "text": [
      "C:\\Users\\LeNutchapong\\Anaconda3\\lib\\site-packages\\pandas\\io\\sql.py:762: UserWarning: pandas only support SQLAlchemy connectable(engine/connection) ordatabase string URI or sqlite3 DBAPI2 connectionother DBAPI2 objects are not tested, please consider using SQLAlchemy\n",
      "  warnings.warn(\n"
     ]
    },
    {
     "name": "stdout",
     "output_type": "stream",
     "text": [
      "Connect SQL Server Succeed!\n",
      "Query Data Doing!\n",
      "Query Data Succeed!\n",
      "(rows, columns) (4, 4)\n",
      "Time taken to run: 0:00:00.444683 hh:mm:ss\n"
     ]
    },
    {
     "name": "stderr",
     "output_type": "stream",
     "text": [
      "C:\\Users\\LeNutchapong\\Anaconda3\\lib\\site-packages\\pandas\\io\\sql.py:762: UserWarning: pandas only support SQLAlchemy connectable(engine/connection) ordatabase string URI or sqlite3 DBAPI2 connectionother DBAPI2 objects are not tested, please consider using SQLAlchemy\n",
      "  warnings.warn(\n"
     ]
    },
    {
     "name": "stdout",
     "output_type": "stream",
     "text": [
      "SULWHASOO\n",
      "Connect SQL Server Succeed!\n",
      "Query Data Doing!\n",
      "Query Data Succeed!\n",
      "(rows, columns) (4, 4)\n",
      "Time taken to run: 0:00:00.435356 hh:mm:ss\n"
     ]
    },
    {
     "name": "stderr",
     "output_type": "stream",
     "text": [
      "C:\\Users\\LeNutchapong\\Anaconda3\\lib\\site-packages\\pandas\\io\\sql.py:762: UserWarning: pandas only support SQLAlchemy connectable(engine/connection) ordatabase string URI or sqlite3 DBAPI2 connectionother DBAPI2 objects are not tested, please consider using SQLAlchemy\n",
      "  warnings.warn(\n"
     ]
    },
    {
     "name": "stdout",
     "output_type": "stream",
     "text": [
      "SISLEY\n",
      "Connect SQL Server Succeed!\n",
      "Query Data Doing!\n",
      "Query Data Succeed!\n",
      "(rows, columns) (4, 4)\n",
      "Time taken to run: 0:00:00.379957 hh:mm:ss\n",
      "BIOTHERM\n"
     ]
    },
    {
     "name": "stderr",
     "output_type": "stream",
     "text": [
      "C:\\Users\\LeNutchapong\\Anaconda3\\lib\\site-packages\\pandas\\io\\sql.py:762: UserWarning: pandas only support SQLAlchemy connectable(engine/connection) ordatabase string URI or sqlite3 DBAPI2 connectionother DBAPI2 objects are not tested, please consider using SQLAlchemy\n",
      "  warnings.warn(\n"
     ]
    },
    {
     "name": "stdout",
     "output_type": "stream",
     "text": [
      "Connect SQL Server Succeed!\n",
      "Query Data Doing!\n",
      "Query Data Succeed!\n",
      "(rows, columns) (4, 4)\n",
      "Time taken to run: 0:00:00.406176 hh:mm:ss\n",
      "LOCCITANE\n"
     ]
    },
    {
     "name": "stderr",
     "output_type": "stream",
     "text": [
      "C:\\Users\\LeNutchapong\\Anaconda3\\lib\\site-packages\\pandas\\io\\sql.py:762: UserWarning: pandas only support SQLAlchemy connectable(engine/connection) ordatabase string URI or sqlite3 DBAPI2 connectionother DBAPI2 objects are not tested, please consider using SQLAlchemy\n",
      "  warnings.warn(\n"
     ]
    },
    {
     "name": "stdout",
     "output_type": "stream",
     "text": [
      "Connect SQL Server Succeed!\n",
      "Query Data Doing!\n",
      "Query Data Succeed!\n",
      "(rows, columns) (4, 4)\n",
      "Time taken to run: 0:00:00.434863 hh:mm:ss\n"
     ]
    },
    {
     "name": "stderr",
     "output_type": "stream",
     "text": [
      "C:\\Users\\LeNutchapong\\Anaconda3\\lib\\site-packages\\pandas\\io\\sql.py:762: UserWarning: pandas only support SQLAlchemy connectable(engine/connection) ordatabase string URI or sqlite3 DBAPI2 connectionother DBAPI2 objects are not tested, please consider using SQLAlchemy\n",
      "  warnings.warn(\n"
     ]
    }
   ],
   "source": [
    "for i in df_list:\n",
    "    print(i)\n",
    "    query=query_sql(i)\n",
    "    df_t = query_data(query)\n",
    "    df_t['brand_name']=i\n",
    "    path='''2main_brand_switch_pt1/raw_data/pt1_fin_66_raw_data_brand_switch_%s.csv'''%(i)\n",
    "    df_t.to_csv(path,encoding='utf-8',index=False)"
   ]
  },
  {
   "cell_type": "code",
   "execution_count": 22,
   "id": "59937643",
   "metadata": {
    "scrolled": true
   },
   "outputs": [
    {
     "name": "stdout",
     "output_type": "stream",
     "text": [
      "pt1_fin_66_raw_data_brand_switch_BIOTHERM.csv\n",
      "pt1_fin_66_raw_data_brand_switch_CHANEL.csv\n",
      "pt1_fin_66_raw_data_brand_switch_CLARINS.csv\n",
      "pt1_fin_66_raw_data_brand_switch_CLINIQUE.csv\n",
      "pt1_fin_66_raw_data_brand_switch_DIOR.csv\n",
      "pt1_fin_66_raw_data_brand_switch_ESTEE LAUDER.csv\n",
      "pt1_fin_66_raw_data_brand_switch_KIEHLS.csv\n",
      "pt1_fin_66_raw_data_brand_switch_LA MER.csv\n",
      "pt1_fin_66_raw_data_brand_switch_LANCOME.csv\n",
      "pt1_fin_66_raw_data_brand_switch_LOCCITANE.csv\n",
      "pt1_fin_66_raw_data_brand_switch_SHISEIDO.csv\n",
      "pt1_fin_66_raw_data_brand_switch_SISLEY.csv\n",
      "pt1_fin_66_raw_data_brand_switch_SKII.csv\n",
      "pt1_fin_66_raw_data_brand_switch_SULWHASOO.csv\n"
     ]
    }
   ],
   "source": [
    "import os\n",
    "path = '2main_brand_switch_pt1/raw_data'\n",
    "types=os.listdir(path)\n",
    "types.sort(reverse = False)\n",
    "for i in types:\n",
    "    print(i)"
   ]
  },
  {
   "cell_type": "code",
   "execution_count": 23,
   "id": "ede8f409",
   "metadata": {
    "scrolled": true
   },
   "outputs": [
    {
     "name": "stdout",
     "output_type": "stream",
     "text": [
      "pt1_fin_66_raw_data_brand_switch_BIOTHERM.csv\n",
      "pt1_fin_66_raw_data_brand_switch_CHANEL.csv\n",
      "pt1_fin_66_raw_data_brand_switch_CLARINS.csv\n",
      "pt1_fin_66_raw_data_brand_switch_CLINIQUE.csv\n",
      "pt1_fin_66_raw_data_brand_switch_DIOR.csv\n",
      "pt1_fin_66_raw_data_brand_switch_ESTEE LAUDER.csv\n",
      "pt1_fin_66_raw_data_brand_switch_KIEHLS.csv\n",
      "pt1_fin_66_raw_data_brand_switch_LA MER.csv\n",
      "pt1_fin_66_raw_data_brand_switch_LANCOME.csv\n",
      "pt1_fin_66_raw_data_brand_switch_LOCCITANE.csv\n",
      "pt1_fin_66_raw_data_brand_switch_SHISEIDO.csv\n",
      "pt1_fin_66_raw_data_brand_switch_SISLEY.csv\n",
      "pt1_fin_66_raw_data_brand_switch_SKII.csv\n",
      "pt1_fin_66_raw_data_brand_switch_SULWHASOO.csv\n"
     ]
    }
   ],
   "source": [
    "ck=0\n",
    "for i in types:\n",
    "    print(i)\n",
    "    path='''2main_brand_switch_pt1/raw_data/%s'''%(i)\n",
    "    df_tmp=pd.read_csv(path)\n",
    "    if ck==0:\n",
    "        df=df_tmp\n",
    "        ck=1\n",
    "    else:\n",
    "        df=pd.concat([df,df_tmp],axis=0)\n",
    "# df = df.fillna(0)\n",
    "del df_tmp"
   ]
  },
  {
   "cell_type": "code",
   "execution_count": 18,
   "id": "45fd19cd",
   "metadata": {},
   "outputs": [
    {
     "name": "stdout",
     "output_type": "stream",
     "text": [
      "BIOTHERM        4\n",
      "CHANEL          4\n",
      "CLARINS         4\n",
      "CLINIQUE        4\n",
      "DIOR            4\n",
      "ESTEE LAUDER    4\n",
      "KIEHLS          4\n",
      "LA MER          4\n",
      "LANCOME         4\n",
      "LOCCITANE       4\n",
      "SHISEIDO        4\n",
      "SISLEY          4\n",
      "SKII            4\n",
      "SULWHASOO       4\n",
      "Name: brand_name, dtype: int64\n"
     ]
    }
   ],
   "source": [
    "print(df['brand_name'].value_counts())"
   ]
  },
  {
   "cell_type": "code",
   "execution_count": 24,
   "id": "4f8aa83e",
   "metadata": {},
   "outputs": [],
   "source": [
    "df.to_csv('2main_brand_switch_pt1/brand_switch_concat_pt1.csv'\n",
    "         , index = False)"
   ]
  },
  {
   "cell_type": "code",
   "execution_count": 20,
   "id": "e10b8c3e",
   "metadata": {},
   "outputs": [
    {
     "data": {
      "text/html": [
       "<div>\n",
       "<style scoped>\n",
       "    .dataframe tbody tr th:only-of-type {\n",
       "        vertical-align: middle;\n",
       "    }\n",
       "\n",
       "    .dataframe tbody tr th {\n",
       "        vertical-align: top;\n",
       "    }\n",
       "\n",
       "    .dataframe thead th {\n",
       "        text-align: right;\n",
       "    }\n",
       "</style>\n",
       "<table border=\"1\" class=\"dataframe\">\n",
       "  <thead>\n",
       "    <tr style=\"text-align: right;\">\n",
       "      <th></th>\n",
       "      <th>customer_behav</th>\n",
       "      <th>loss</th>\n",
       "      <th>gain</th>\n",
       "      <th>net_gain_loss</th>\n",
       "      <th>brand_name</th>\n",
       "    </tr>\n",
       "  </thead>\n",
       "  <tbody>\n",
       "    <tr>\n",
       "      <th>0</th>\n",
       "      <td>1) new/lapsed to class</td>\n",
       "      <td>24353263.310000</td>\n",
       "      <td>16017867.500000</td>\n",
       "      <td>-8335395.810000</td>\n",
       "      <td>BIOTHERM</td>\n",
       "    </tr>\n",
       "    <tr>\n",
       "      <th>1</th>\n",
       "      <td>2) new/lapsed ex-cat</td>\n",
       "      <td>7852720.540000</td>\n",
       "      <td>5865687.060000</td>\n",
       "      <td>-1987033.480000</td>\n",
       "      <td>BIOTHERM</td>\n",
       "    </tr>\n",
       "    <tr>\n",
       "      <th>2</th>\n",
       "      <td>3) ex-cat/ex-brand spend less/more</td>\n",
       "      <td>14715092.970000</td>\n",
       "      <td>14682797.020000</td>\n",
       "      <td>-32295.950000</td>\n",
       "      <td>BIOTHERM</td>\n",
       "    </tr>\n",
       "    <tr>\n",
       "      <th>3</th>\n",
       "      <td>4) switch in-out</td>\n",
       "      <td>2341493.520000</td>\n",
       "      <td>1809087.100000</td>\n",
       "      <td>-532406.420000</td>\n",
       "      <td>BIOTHERM</td>\n",
       "    </tr>\n",
       "    <tr>\n",
       "      <th>0</th>\n",
       "      <td>1) new/lapsed to class</td>\n",
       "      <td>45078632.460000</td>\n",
       "      <td>46600862.930000</td>\n",
       "      <td>1522230.470000</td>\n",
       "      <td>CHANEL</td>\n",
       "    </tr>\n",
       "  </tbody>\n",
       "</table>\n",
       "</div>"
      ],
      "text/plain": [
       "                       customer_behav            loss            gain  \\\n",
       "0              1) new/lapsed to class 24353263.310000 16017867.500000   \n",
       "1                2) new/lapsed ex-cat  7852720.540000  5865687.060000   \n",
       "2  3) ex-cat/ex-brand spend less/more 14715092.970000 14682797.020000   \n",
       "3                    4) switch in-out  2341493.520000  1809087.100000   \n",
       "0              1) new/lapsed to class 45078632.460000 46600862.930000   \n",
       "\n",
       "    net_gain_loss brand_name  \n",
       "0 -8335395.810000   BIOTHERM  \n",
       "1 -1987033.480000   BIOTHERM  \n",
       "2   -32295.950000   BIOTHERM  \n",
       "3  -532406.420000   BIOTHERM  \n",
       "0  1522230.470000     CHANEL  "
      ]
     },
     "execution_count": 20,
     "metadata": {},
     "output_type": "execute_result"
    }
   ],
   "source": [
    "df.head()"
   ]
  },
  {
   "cell_type": "code",
   "execution_count": 6,
   "id": "513bc41b",
   "metadata": {},
   "outputs": [],
   "source": [
    "## Part 2: Switch in-out\n",
    "\n",
    "def query_sql(brand_name):\n",
    "    query=''' \n",
    "WITH merge_brand_out AS (\n",
    "SELECT brand_name_22 AS brand_name\n",
    "\t\t, sum(spend_19) sales_switch_out \n",
    "FROM analysis_cds_rbs.kd_tmp_brand_switch_beauty_66_23_skincare\t\t--change db\n",
    "WHERE 1=1\n",
    "\tAND type_for_brand  IN ('f) switch: 1-1 spend more than equal','f) switch: 1-1 spend less')\n",
    "\tAND brand_name_19 IN ('%s')\t\t--change brand for loop\n",
    "\tAND brand_name_22 NOT IN ('Other')\n",
    "GROUP BY 1\n",
    ")\n",
    "\t\n",
    ", merge_brand_in AS (\n",
    "SELECT brand_name_19 AS brand_name\n",
    "\t\t, sum(spend_22) sales_switch_in \n",
    "FROM analysis_cds_rbs.kd_tmp_brand_switch_beauty_66_23_skincare\t\t--change db\n",
    "WHERE 1=1\n",
    "\tAND type_for_brand  IN ('f) switch: 1-1 spend more than equal','f) switch: 1-1 spend less')\n",
    "\tAND brand_name_22 IN ('%s')\t\t--change brand for loop\n",
    "\tAND brand_name_19 NOT IN ('Other')\n",
    "GROUP BY 1\n",
    ")\n",
    "\n",
    ", all_brand AS (\n",
    "SELECT DISTINCT brand_name\n",
    "FROM merge_brand_out\n",
    "UNION\n",
    "SELECT DISTINCT brand_name\n",
    "FROM merge_brand_in\n",
    ")\n",
    "\n",
    ", df_output AS (\n",
    "SELECT b.brand_name AS to_brand\n",
    "\t\t, o.sales_switch_out\n",
    "\t\t, i.sales_switch_in\n",
    "\t\t, COALESCE(i.sales_switch_in,0) - COALESCE(o.sales_switch_out,0) AS sales_net_gain_loss\n",
    "FROM all_brand b\n",
    "LEFT JOIN merge_brand_out o\n",
    "\tON b.brand_name = o.brand_name\n",
    "LEFT JOIN merge_brand_in i\n",
    "\tON b.brand_name = i.brand_name\n",
    ")\n",
    "\n",
    "SELECT *\n",
    "FROM df_output\n",
    "    '''%(brand_name,brand_name)\n",
    "    return query"
   ]
  },
  {
   "cell_type": "code",
   "execution_count": 8,
   "id": "69c5ce8c",
   "metadata": {},
   "outputs": [
    {
     "name": "stdout",
     "output_type": "stream",
     "text": [
      "LA MER\n",
      "Connect SQL Server Succeed!\n",
      "Query Data Doing!\n",
      "Query Data Succeed!\n",
      "(rows, columns) (13, 4)\n",
      "Time taken to run: 0:00:01.675262 hh:mm:ss\n"
     ]
    },
    {
     "name": "stderr",
     "output_type": "stream",
     "text": [
      "C:\\Users\\LeNutchapong\\Anaconda3\\lib\\site-packages\\pandas\\io\\sql.py:762: UserWarning: pandas only support SQLAlchemy connectable(engine/connection) ordatabase string URI or sqlite3 DBAPI2 connectionother DBAPI2 objects are not tested, please consider using SQLAlchemy\n",
      "  warnings.warn(\n"
     ]
    },
    {
     "name": "stdout",
     "output_type": "stream",
     "text": [
      "DIOR\n",
      "Connect SQL Server Succeed!\n",
      "Query Data Doing!\n"
     ]
    },
    {
     "name": "stderr",
     "output_type": "stream",
     "text": [
      "C:\\Users\\LeNutchapong\\Anaconda3\\lib\\site-packages\\pandas\\io\\sql.py:762: UserWarning: pandas only support SQLAlchemy connectable(engine/connection) ordatabase string URI or sqlite3 DBAPI2 connectionother DBAPI2 objects are not tested, please consider using SQLAlchemy\n",
      "  warnings.warn(\n"
     ]
    },
    {
     "name": "stdout",
     "output_type": "stream",
     "text": [
      "Query Data Succeed!\n",
      "(rows, columns) (13, 4)\n",
      "Time taken to run: 0:00:03.090374 hh:mm:ss\n",
      "ESTEE LAUDER\n",
      "Connect SQL Server Succeed!\n",
      "Query Data Doing!\n"
     ]
    },
    {
     "name": "stderr",
     "output_type": "stream",
     "text": [
      "C:\\Users\\LeNutchapong\\Anaconda3\\lib\\site-packages\\pandas\\io\\sql.py:762: UserWarning: pandas only support SQLAlchemy connectable(engine/connection) ordatabase string URI or sqlite3 DBAPI2 connectionother DBAPI2 objects are not tested, please consider using SQLAlchemy\n",
      "  warnings.warn(\n"
     ]
    },
    {
     "name": "stdout",
     "output_type": "stream",
     "text": [
      "Query Data Succeed!\n",
      "(rows, columns) (13, 4)\n",
      "Time taken to run: 0:00:00.601656 hh:mm:ss\n",
      "CLARINS\n",
      "Connect SQL Server Succeed!\n",
      "Query Data Doing!\n"
     ]
    },
    {
     "name": "stderr",
     "output_type": "stream",
     "text": [
      "C:\\Users\\LeNutchapong\\Anaconda3\\lib\\site-packages\\pandas\\io\\sql.py:762: UserWarning: pandas only support SQLAlchemy connectable(engine/connection) ordatabase string URI or sqlite3 DBAPI2 connectionother DBAPI2 objects are not tested, please consider using SQLAlchemy\n",
      "  warnings.warn(\n"
     ]
    },
    {
     "name": "stdout",
     "output_type": "stream",
     "text": [
      "Query Data Succeed!\n",
      "(rows, columns) (13, 4)\n",
      "Time taken to run: 0:00:00.609553 hh:mm:ss\n",
      "SKII\n",
      "Connect SQL Server Succeed!\n",
      "Query Data Doing!\n"
     ]
    },
    {
     "name": "stderr",
     "output_type": "stream",
     "text": [
      "C:\\Users\\LeNutchapong\\Anaconda3\\lib\\site-packages\\pandas\\io\\sql.py:762: UserWarning: pandas only support SQLAlchemy connectable(engine/connection) ordatabase string URI or sqlite3 DBAPI2 connectionother DBAPI2 objects are not tested, please consider using SQLAlchemy\n",
      "  warnings.warn(\n"
     ]
    },
    {
     "name": "stdout",
     "output_type": "stream",
     "text": [
      "Query Data Succeed!\n",
      "(rows, columns) (13, 4)\n",
      "Time taken to run: 0:00:00.725451 hh:mm:ss\n",
      "KIEHLS\n",
      "Connect SQL Server Succeed!\n",
      "Query Data Doing!\n"
     ]
    },
    {
     "name": "stderr",
     "output_type": "stream",
     "text": [
      "C:\\Users\\LeNutchapong\\Anaconda3\\lib\\site-packages\\pandas\\io\\sql.py:762: UserWarning: pandas only support SQLAlchemy connectable(engine/connection) ordatabase string URI or sqlite3 DBAPI2 connectionother DBAPI2 objects are not tested, please consider using SQLAlchemy\n",
      "  warnings.warn(\n"
     ]
    },
    {
     "name": "stdout",
     "output_type": "stream",
     "text": [
      "Query Data Succeed!\n",
      "(rows, columns) (13, 4)\n",
      "Time taken to run: 0:00:00.687154 hh:mm:ss\n",
      "CHANEL\n",
      "Connect SQL Server Succeed!\n",
      "Query Data Doing!\n"
     ]
    },
    {
     "name": "stderr",
     "output_type": "stream",
     "text": [
      "C:\\Users\\LeNutchapong\\Anaconda3\\lib\\site-packages\\pandas\\io\\sql.py:762: UserWarning: pandas only support SQLAlchemy connectable(engine/connection) ordatabase string URI or sqlite3 DBAPI2 connectionother DBAPI2 objects are not tested, please consider using SQLAlchemy\n",
      "  warnings.warn(\n"
     ]
    },
    {
     "name": "stdout",
     "output_type": "stream",
     "text": [
      "Query Data Succeed!\n",
      "(rows, columns) (13, 4)\n",
      "Time taken to run: 0:00:00.577575 hh:mm:ss\n",
      "SHISEIDO\n",
      "Connect SQL Server Succeed!\n",
      "Query Data Doing!\n"
     ]
    },
    {
     "name": "stderr",
     "output_type": "stream",
     "text": [
      "C:\\Users\\LeNutchapong\\Anaconda3\\lib\\site-packages\\pandas\\io\\sql.py:762: UserWarning: pandas only support SQLAlchemy connectable(engine/connection) ordatabase string URI or sqlite3 DBAPI2 connectionother DBAPI2 objects are not tested, please consider using SQLAlchemy\n",
      "  warnings.warn(\n"
     ]
    },
    {
     "name": "stdout",
     "output_type": "stream",
     "text": [
      "Query Data Succeed!\n",
      "(rows, columns) (13, 4)\n",
      "Time taken to run: 0:00:00.714469 hh:mm:ss\n",
      "LANCOME\n",
      "Connect SQL Server Succeed!\n",
      "Query Data Doing!\n"
     ]
    },
    {
     "name": "stderr",
     "output_type": "stream",
     "text": [
      "C:\\Users\\LeNutchapong\\Anaconda3\\lib\\site-packages\\pandas\\io\\sql.py:762: UserWarning: pandas only support SQLAlchemy connectable(engine/connection) ordatabase string URI or sqlite3 DBAPI2 connectionother DBAPI2 objects are not tested, please consider using SQLAlchemy\n",
      "  warnings.warn(\n"
     ]
    },
    {
     "name": "stdout",
     "output_type": "stream",
     "text": [
      "Query Data Succeed!\n",
      "(rows, columns) (13, 4)\n",
      "Time taken to run: 0:00:00.698226 hh:mm:ss\n",
      "CLINIQUE\n",
      "Connect SQL Server Succeed!\n",
      "Query Data Doing!\n"
     ]
    },
    {
     "name": "stderr",
     "output_type": "stream",
     "text": [
      "C:\\Users\\LeNutchapong\\Anaconda3\\lib\\site-packages\\pandas\\io\\sql.py:762: UserWarning: pandas only support SQLAlchemy connectable(engine/connection) ordatabase string URI or sqlite3 DBAPI2 connectionother DBAPI2 objects are not tested, please consider using SQLAlchemy\n",
      "  warnings.warn(\n"
     ]
    },
    {
     "name": "stdout",
     "output_type": "stream",
     "text": [
      "Query Data Succeed!\n",
      "(rows, columns) (13, 4)\n",
      "Time taken to run: 0:00:00.747090 hh:mm:ss\n",
      "SULWHASOO\n",
      "Connect SQL Server Succeed!\n",
      "Query Data Doing!\n"
     ]
    },
    {
     "name": "stderr",
     "output_type": "stream",
     "text": [
      "C:\\Users\\LeNutchapong\\Anaconda3\\lib\\site-packages\\pandas\\io\\sql.py:762: UserWarning: pandas only support SQLAlchemy connectable(engine/connection) ordatabase string URI or sqlite3 DBAPI2 connectionother DBAPI2 objects are not tested, please consider using SQLAlchemy\n",
      "  warnings.warn(\n"
     ]
    },
    {
     "name": "stdout",
     "output_type": "stream",
     "text": [
      "Query Data Succeed!\n",
      "(rows, columns) (12, 4)\n",
      "Time taken to run: 0:00:00.689780 hh:mm:ss\n",
      "SISLEY\n",
      "Connect SQL Server Succeed!\n",
      "Query Data Doing!\n"
     ]
    },
    {
     "name": "stderr",
     "output_type": "stream",
     "text": [
      "C:\\Users\\LeNutchapong\\Anaconda3\\lib\\site-packages\\pandas\\io\\sql.py:762: UserWarning: pandas only support SQLAlchemy connectable(engine/connection) ordatabase string URI or sqlite3 DBAPI2 connectionother DBAPI2 objects are not tested, please consider using SQLAlchemy\n",
      "  warnings.warn(\n"
     ]
    },
    {
     "name": "stdout",
     "output_type": "stream",
     "text": [
      "Query Data Succeed!\n",
      "(rows, columns) (12, 4)\n",
      "Time taken to run: 0:00:00.756557 hh:mm:ss\n",
      "BIOTHERM\n",
      "Connect SQL Server Succeed!\n",
      "Query Data Doing!\n"
     ]
    },
    {
     "name": "stderr",
     "output_type": "stream",
     "text": [
      "C:\\Users\\LeNutchapong\\Anaconda3\\lib\\site-packages\\pandas\\io\\sql.py:762: UserWarning: pandas only support SQLAlchemy connectable(engine/connection) ordatabase string URI or sqlite3 DBAPI2 connectionother DBAPI2 objects are not tested, please consider using SQLAlchemy\n",
      "  warnings.warn(\n"
     ]
    },
    {
     "name": "stdout",
     "output_type": "stream",
     "text": [
      "Query Data Succeed!\n",
      "(rows, columns) (13, 4)\n",
      "Time taken to run: 0:00:00.519651 hh:mm:ss\n",
      "LOCCITANE\n",
      "Connect SQL Server Succeed!\n",
      "Query Data Doing!\n"
     ]
    },
    {
     "name": "stderr",
     "output_type": "stream",
     "text": [
      "C:\\Users\\LeNutchapong\\Anaconda3\\lib\\site-packages\\pandas\\io\\sql.py:762: UserWarning: pandas only support SQLAlchemy connectable(engine/connection) ordatabase string URI or sqlite3 DBAPI2 connectionother DBAPI2 objects are not tested, please consider using SQLAlchemy\n",
      "  warnings.warn(\n"
     ]
    },
    {
     "name": "stdout",
     "output_type": "stream",
     "text": [
      "Query Data Succeed!\n",
      "(rows, columns) (13, 4)\n",
      "Time taken to run: 0:00:00.738105 hh:mm:ss\n"
     ]
    }
   ],
   "source": [
    "for i in df_list:\n",
    "    print(i)\n",
    "    query=query_sql(i)\n",
    "    df_t = query_data(query)\n",
    "    df_t['brand_name']=i\n",
    "    path='''2main_brand_switch_pt2/raw_data/pt2_fin_66_raw_data_brand_switch_%s.csv'''%(i)\n",
    "    df_t.to_csv(path,encoding='utf-8',index=False)"
   ]
  },
  {
   "cell_type": "code",
   "execution_count": 9,
   "id": "c25e8cd4",
   "metadata": {},
   "outputs": [
    {
     "name": "stdout",
     "output_type": "stream",
     "text": [
      "pt2_fin_66_raw_data_brand_switch_BIOTHERM.csv\n",
      "pt2_fin_66_raw_data_brand_switch_CHANEL.csv\n",
      "pt2_fin_66_raw_data_brand_switch_CLARINS.csv\n",
      "pt2_fin_66_raw_data_brand_switch_CLINIQUE.csv\n",
      "pt2_fin_66_raw_data_brand_switch_DIOR.csv\n",
      "pt2_fin_66_raw_data_brand_switch_ESTEE LAUDER.csv\n",
      "pt2_fin_66_raw_data_brand_switch_KIEHLS.csv\n",
      "pt2_fin_66_raw_data_brand_switch_LA MER.csv\n",
      "pt2_fin_66_raw_data_brand_switch_LANCOME.csv\n",
      "pt2_fin_66_raw_data_brand_switch_LOCCITANE.csv\n",
      "pt2_fin_66_raw_data_brand_switch_SHISEIDO.csv\n",
      "pt2_fin_66_raw_data_brand_switch_SISLEY.csv\n",
      "pt2_fin_66_raw_data_brand_switch_SKII.csv\n",
      "pt2_fin_66_raw_data_brand_switch_SULWHASOO.csv\n"
     ]
    }
   ],
   "source": [
    "import os\n",
    "path = '2main_brand_switch_pt2/raw_data'\n",
    "types=os.listdir(path)\n",
    "types.sort(reverse = False)\n",
    "for i in types:\n",
    "    print(i)"
   ]
  },
  {
   "cell_type": "code",
   "execution_count": 11,
   "id": "abd765b3",
   "metadata": {},
   "outputs": [
    {
     "name": "stdout",
     "output_type": "stream",
     "text": [
      "pt2_fin_66_raw_data_brand_switch_BIOTHERM.csv\n",
      "pt2_fin_66_raw_data_brand_switch_CHANEL.csv\n",
      "pt2_fin_66_raw_data_brand_switch_CLARINS.csv\n",
      "pt2_fin_66_raw_data_brand_switch_CLINIQUE.csv\n",
      "pt2_fin_66_raw_data_brand_switch_DIOR.csv\n",
      "pt2_fin_66_raw_data_brand_switch_ESTEE LAUDER.csv\n",
      "pt2_fin_66_raw_data_brand_switch_KIEHLS.csv\n",
      "pt2_fin_66_raw_data_brand_switch_LA MER.csv\n",
      "pt2_fin_66_raw_data_brand_switch_LANCOME.csv\n",
      "pt2_fin_66_raw_data_brand_switch_LOCCITANE.csv\n",
      "pt2_fin_66_raw_data_brand_switch_SHISEIDO.csv\n",
      "pt2_fin_66_raw_data_brand_switch_SISLEY.csv\n",
      "pt2_fin_66_raw_data_brand_switch_SKII.csv\n",
      "pt2_fin_66_raw_data_brand_switch_SULWHASOO.csv\n"
     ]
    }
   ],
   "source": [
    "ck=0\n",
    "for i in types:\n",
    "    print(i)\n",
    "    path='''2main_brand_switch_pt2/raw_data/%s'''%(i)\n",
    "    df_tmp=pd.read_csv(path)\n",
    "    if ck==0:\n",
    "        df=df_tmp\n",
    "        ck=1\n",
    "    else:\n",
    "        df=pd.concat([df,df_tmp],axis=0)\n",
    "# df = df.fillna(0)\n",
    "del df_tmp"
   ]
  },
  {
   "cell_type": "code",
   "execution_count": 12,
   "id": "5f52d728",
   "metadata": {},
   "outputs": [
    {
     "name": "stdout",
     "output_type": "stream",
     "text": [
      "BIOTHERM        13\n",
      "CHANEL          13\n",
      "CLARINS         13\n",
      "CLINIQUE        13\n",
      "DIOR            13\n",
      "ESTEE LAUDER    13\n",
      "KIEHLS          13\n",
      "LA MER          13\n",
      "LANCOME         13\n",
      "LOCCITANE       13\n",
      "SHISEIDO        13\n",
      "SKII            13\n",
      "SISLEY          12\n",
      "SULWHASOO       12\n",
      "Name: brand_name, dtype: int64\n"
     ]
    }
   ],
   "source": [
    "print(df['brand_name'].value_counts())"
   ]
  },
  {
   "cell_type": "code",
   "execution_count": 13,
   "id": "c755f869",
   "metadata": {},
   "outputs": [],
   "source": [
    "df.to_csv('2main_brand_switch_pt2/brand_switch_concat_pt2.csv'\n",
    "         , index = False)"
   ]
  },
  {
   "cell_type": "markdown",
   "id": "65d61d6b",
   "metadata": {},
   "source": [
    "# MS Notify"
   ]
  },
  {
   "cell_type": "code",
   "execution_count": 17,
   "id": "235d634c",
   "metadata": {},
   "outputs": [],
   "source": [
    "import requests\n",
    "url='https://centralgroup.webhook.office.com/webhookb2/0e146277-edd2-4678-bedd-ee76a1a8bf06@817e531d-191b-4cf5-8812-f0061d89b53d/IncomingWebhook/d97dc1b8738842a6bb5e2b92cddf7b16/0fd8012f-8f3d-4d8d-baf4-232c6db78985'\n",
    "def send_teams(webhook_url:str, content:str, title:str, color:str=\"000000\") -> int:\n",
    "    \"\"\"\n",
    "      - Send a teams notification to the desired webhook_url\n",
    "      - Returns the status code of the HTTP request\n",
    "        - webhook_url : the url you got from the teams webhook configuration\n",
    "        - content : your formatted notification content\n",
    "        - title : the message that'll be displayed as title, and on phone notifications\n",
    "        - color (optional) : hexadecimal code of the notification's top line color, default corresponds to black\n",
    "    \"\"\"\n",
    "    response = requests.post(\n",
    "        url=webhook_url,\n",
    "        headers={\"Content-Type\": \"application/json\"},\n",
    "        json={\n",
    "            \"themeColor\": color,\n",
    "            \"summary\": title,\n",
    "            \"sections\": [{\n",
    "                \"activityTitle\": title,\n",
    "                \"activitySubtitle\": content\n",
    "            }],\n",
    "        },\n",
    "    )\n",
    "    return response.status_code # Should be 200"
   ]
  },
  {
   "cell_type": "code",
   "execution_count": 18,
   "id": "88dd4418",
   "metadata": {},
   "outputs": [
    {
     "data": {
      "text/plain": [
       "200"
      ]
     },
     "execution_count": 18,
     "metadata": {},
     "output_type": "execute_result"
    }
   ],
   "source": [
    "# Preparing content\n",
    "title=\"Automated Notification about RBS lapsed\"\n",
    "content = \"\"\"\n",
    "The content of this notification is <i>Update raw_data_RBS_lapsed_Lapsed Done!!</i>.\n",
    "😍\n",
    "\"\"\"\n",
    "# Sending content\n",
    "send_teams(url, content, title)"
   ]
  }
 ],
 "metadata": {
  "kernelspec": {
   "display_name": "Python 3 (ipykernel)",
   "language": "python",
   "name": "python3"
  },
  "language_info": {
   "codemirror_mode": {
    "name": "ipython",
    "version": 3
   },
   "file_extension": ".py",
   "mimetype": "text/x-python",
   "name": "python",
   "nbconvert_exporter": "python",
   "pygments_lexer": "ipython3",
   "version": "3.9.13"
  }
 },
 "nbformat": 4,
 "nbformat_minor": 5
}
